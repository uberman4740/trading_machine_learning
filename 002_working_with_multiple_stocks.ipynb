import os
import pandas as pd
import matplotlib.pyplot as plt

def plot_selected(df, columns, start_index, end_index):

    df = df.ix[end_index:start_index,columns]
    ax = df.plot(title="SPY and IBM")
    ax.set_xlabel("Date")
    ax.set_ylabel("Price")
    plt.show()

def symbol_to_path(symbol, base_dir="data"):
    return os.path.join(base_dir, "{}.csv".format(str(symbol)))

def get_data(symbols):

    # Download csv - http://ichart.finance.yahoo.com/table.csv?d=6&e=1&f=2009&g=d&a=7&b=19&c=2004&ignore=.csv&s=GOOG
    
    df = pd.read_csv(symbol_to_path('SPY'), index_col='Date', parse_dates='TRUE', 
                     usecols=['Date','Adj Close'], na_values=['nan'])
    df = df.rename(columns={'Adj Close':'SPY'})
    df = df.ix['2010-12-31':'2010-01-02']
    
    for symbol in symbols:
        dftmp = pd.read_csv(symbol_to_path(symbol), index_col='Date', parse_dates='TRUE', 
                            usecols=['Date','Adj Close'], na_values=['nan'])
        dftmp = dftmp.rename(columns={'Adj Close':symbol})   
        df = df.join(dftmp,how='inner')
        if symbol == 'SPY':
            df=df.dropna(subset=['SPY'])
    return df

def test_run():

    # Choose stock symbols to read
    symbols = ['GOOG', 'IBM', 'GLD']
    
    # Get stock data
    df = get_data(symbols)
    return df
        
    # Slice and plot
    plot_selected(df, ['SPY', 'IBM'], '2010-03-01', '2010-04-01')

if __name__ == "__main__":
    dft = test_run()
