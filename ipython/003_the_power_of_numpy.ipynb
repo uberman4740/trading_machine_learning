{
 "cells": [
  {
   "cell_type": "code",
   "execution_count": 26,
   "metadata": {
    "collapsed": true
   },
   "outputs": [],
   "source": [
    "import numpy as np"
   ]
  },
  {
   "cell_type": "code",
   "execution_count": 55,
   "metadata": {
    "collapsed": false
   },
   "outputs": [
    {
     "name": "stdout",
     "output_type": "stream",
     "text": [
      "[[ 0.56894022  0.06596423  0.88811067]\n",
      " [ 0.92965818  0.67969204  0.54427582]]\n",
      "[8 8 7 4 7 5 5 1 1 1]\n",
      "[[5 1 2 4 7]\n",
      " [4 7 1 2 9]]\n",
      "[ 11.07845754  10.59611431   9.68603144  10.09306814   9.53687831\n",
      "   9.76017598  10.43208362  10.28188703  10.23508651   9.87204416]\n"
     ]
    }
   ],
   "source": [
    "# Creating random arrays\n",
    "\n",
    "np.random.seed(75)\n",
    "print(np.random.rand(2,3))\n",
    "print(np.random.randint(1,10,10))\n",
    "print(np.random.randint(1,10,size=(2,5)))\n",
    "print(np.random.normal(10,1,size=10))"
   ]
  },
  {
   "cell_type": "code",
   "execution_count": 56,
   "metadata": {
    "collapsed": false
   },
   "outputs": [
    {
     "data": {
      "text/plain": [
       "array([[7, 2, 4, 5, 5],\n",
       "       [9, 5, 6, 3, 6],\n",
       "       [5, 5, 6, 1, 1],\n",
       "       [1, 6, 2, 3, 2]])"
      ]
     },
     "execution_count": 56,
     "metadata": {},
     "output_type": "execute_result"
    }
   ],
   "source": [
    "# Shaping arrays\n",
    "\n",
    "a1 = np.random.randint(1,10,size=(4,5))\n",
    "a1"
   ]
  },
  {
   "cell_type": "code",
   "execution_count": 57,
   "metadata": {
    "collapsed": false
   },
   "outputs": [
    {
     "name": "stdout",
     "output_type": "stream",
     "text": [
      "84\n",
      "[22 18 18 12 14]\n",
      "[23 29 18 14]\n"
     ]
    }
   ],
   "source": [
    "# Array functions sum,prod,max,min,mean,std\n",
    "print(a1.sum())\n",
    "print(a1.sum(axis=0))  # sum of columns (sum of rows axis = 0)\n",
    "print(a1.sum(axis=1))  # sum of rows (sum of columns axis = 1)"
   ]
  },
  {
   "cell_type": "code",
   "execution_count": 64,
   "metadata": {
    "collapsed": false
   },
   "outputs": [
    {
     "name": "stdout",
     "output_type": "stream",
     "text": [
      "[[7 2 4 5 5]\n",
      " [9 5 6 3 6]\n",
      " [5 5 6 1 1]\n",
      " [1 6 2 3 2]]\n",
      "(4, 5)\n",
      "4\n",
      "5\n",
      "20\n"
     ]
    }
   ],
   "source": [
    "print(a1)\n",
    "print(np.shape(a1))\n",
    "print(np.shape(a1)[0])\n",
    "print(np.shape(a1)[1])\n",
    "print(np.size(a1))"
   ]
  },
  {
   "cell_type": "code",
   "execution_count": 23,
   "metadata": {
    "collapsed": false
   },
   "outputs": [
    {
     "name": "stdout",
     "output_type": "stream",
     "text": [
      "Array: [ 9  6  2  3 12 14  7 10]\n",
      "Maximum value: 14\n",
      "Index of max.: 5\n"
     ]
    }
   ],
   "source": [
    "def get_max_index(a):\n",
    "    for i in range(len(a)):\n",
    "        if (a[i] == a.max()):\n",
    "            return i\n",
    "\n",
    "def test_run():\n",
    "    a = np.array([9, 6, 2, 3, 12, 14, 7, 10], dtype=np.int32)  # 32-bit integer array\n",
    "    print \"Array:\", a\n",
    "    \n",
    "    # Find the maximum and its index in array\n",
    "    print \"Maximum value:\", a.max()\n",
    "    print \"Index of max.:\", get_max_index(a)\n",
    "\n",
    "\n",
    "if __name__ == \"__main__\":\n",
    "    test_run()\n"
   ]
  },
  {
   "cell_type": "code",
   "execution_count": 25,
   "metadata": {
    "collapsed": false
   },
   "outputs": [
    {
     "name": "stdout",
     "output_type": "stream",
     "text": [
      " Array: [ 9  6  2  3 12 14  7 10]\n",
      "Maximum value: 14\n",
      "Index of max.: 5\n"
     ]
    }
   ],
   "source": [
    "# We can use argmax() instead previous loop\n",
    "\n",
    "import numpy as np\n",
    "\n",
    "def get_max_index(a):\n",
    "    return np.argmax(a)\n",
    "\n",
    "def test_run():\n",
    "    a = np.array([9, 6, 2, 3, 12, 14, 7, 10], dtype=np.int32)  # 32-bit integer array\n",
    "    print \"Array:\", a\n",
    "    \n",
    "    # Find the maximum and its index in array\n",
    "    print \"Maximum value:\", a.max()\n",
    "    print \"Index of max.:\", get_max_index(a)\n",
    "\n",
    "\n",
    "if __name__ == \"__main__\":\n",
    "    test_run()\n"
   ]
  },
  {
   "cell_type": "raw",
   "metadata": {},
   "source": []
  },
  {
   "cell_type": "code",
   "execution_count": null,
   "metadata": {
    "collapsed": true
   },
   "outputs": [],
   "source": []
  }
 ],
 "metadata": {
  "kernelspec": {
   "display_name": "Python 2",
   "language": "python",
   "name": "python2"
  },
  "language_info": {
   "codemirror_mode": {
    "name": "ipython",
    "version": 2
   },
   "file_extension": ".py",
   "mimetype": "text/x-python",
   "name": "python",
   "nbconvert_exporter": "python",
   "pygments_lexer": "ipython2",
   "version": "2.7.10"
  }
 },
 "nbformat": 4,
 "nbformat_minor": 0
}
